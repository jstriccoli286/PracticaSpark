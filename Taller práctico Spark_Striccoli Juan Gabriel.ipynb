{
 "cells": [
  {
   "cell_type": "markdown",
   "id": "21446586",
   "metadata": {},
   "source": [
    "# Actividad práctica de Spark - Striccoli Juan Gabriel"
   ]
  },
  {
   "cell_type": "markdown",
   "id": "605a7b11",
   "metadata": {},
   "source": [
    "## Importar las bibliotecas necesarias y crear una instancia de SparkSession"
   ]
  },
  {
   "cell_type": "code",
   "execution_count": 1,
   "id": "dcddb5ec",
   "metadata": {},
   "outputs": [],
   "source": [
    "from pyspark.sql import SparkSession\n",
    "spark = SparkSession.builder \\\n",
    "    .appName(\"PracticaSpark\") \\\n",
    "    .config(\"spark.executor.memory\", \"2g\") \\\n",
    "    .config(\"spark.executor.cores\", \"2\") \\\n",
    "    .getOrCreate()"
   ]
  },
  {
   "cell_type": "markdown",
   "id": "7ddcf3a1",
   "metadata": {},
   "source": [
    "## Ejecución de los ejercicios requeridos"
   ]
  },
  {
   "cell_type": "markdown",
   "id": "31bd0005",
   "metadata": {},
   "source": [
    "### 1. Crear un DataFrame con datos de personas, que incluya nombre, edad y ciudad de residencia"
   ]
  },
  {
   "cell_type": "code",
   "execution_count": 2,
   "id": "a5ff3246",
   "metadata": {},
   "outputs": [],
   "source": [
    "# Primero defino el Schema\n",
    "from pyspark.sql.types import StructType, StructField, StringType, IntegerType\n",
    "\n",
    "schema = StructType([\n",
    "    StructField(\"Nombre\", StringType(), True),\n",
    "    StructField(\"Edad\", IntegerType(), True),\n",
    "    StructField(\"Ciudad\", StringType(), True)\n",
    "])\n",
    "\n",
    "# Luego creo el DataFrame\n",
    "data = [(\"Alice\", 25, \"New York\"),\n",
    "        (\"Bob\", 30, \"Los Angeles\"),\n",
    "        (\"Charlie\", 22, \"Chicago\")]\n",
    "\n",
    "df = spark.createDataFrame(data, schema=schema)"
   ]
  },
  {
   "cell_type": "code",
   "execution_count": 3,
   "id": "765d5be5",
   "metadata": {},
   "outputs": [
    {
     "name": "stdout",
     "output_type": "stream",
     "text": [
      "root\n",
      " |-- Nombre: string (nullable = true)\n",
      " |-- Edad: integer (nullable = true)\n",
      " |-- Ciudad: string (nullable = true)\n",
      "\n"
     ]
    }
   ],
   "source": [
    "df.printSchema()"
   ]
  },
  {
   "cell_type": "code",
   "execution_count": 4,
   "id": "9d7bac75",
   "metadata": {},
   "outputs": [
    {
     "name": "stdout",
     "output_type": "stream",
     "text": [
      "+-------+----+-----------+\n",
      "| Nombre|Edad|     Ciudad|\n",
      "+-------+----+-----------+\n",
      "|  Alice|  25|   New York|\n",
      "|    Bob|  30|Los Angeles|\n",
      "|Charlie|  22|    Chicago|\n",
      "+-------+----+-----------+\n",
      "\n"
     ]
    }
   ],
   "source": [
    "df.show(3)"
   ]
  },
  {
   "cell_type": "markdown",
   "id": "85691443",
   "metadata": {},
   "source": [
    "### 2. Mostrar solo los nombres de las personas del DataFrame"
   ]
  },
  {
   "cell_type": "code",
   "execution_count": 5,
   "id": "442d7493",
   "metadata": {},
   "outputs": [
    {
     "name": "stdout",
     "output_type": "stream",
     "text": [
      "+-------+\n",
      "| Nombre|\n",
      "+-------+\n",
      "|  Alice|\n",
      "|    Bob|\n",
      "|Charlie|\n",
      "+-------+\n",
      "\n"
     ]
    }
   ],
   "source": [
    "df.select(\"Nombre\").show()"
   ]
  },
  {
   "cell_type": "markdown",
   "id": "a9a7da8d",
   "metadata": {},
   "source": [
    "### 3. Filtrar personas cuya edad sea mayor o igual a 25"
   ]
  },
  {
   "cell_type": "code",
   "execution_count": 6,
   "id": "b6054b49",
   "metadata": {},
   "outputs": [
    {
     "name": "stdout",
     "output_type": "stream",
     "text": [
      "+------+----+-----------+\n",
      "|Nombre|Edad|     Ciudad|\n",
      "+------+----+-----------+\n",
      "| Alice|  25|   New York|\n",
      "|   Bob|  30|Los Angeles|\n",
      "+------+----+-----------+\n",
      "\n"
     ]
    }
   ],
   "source": [
    "df.filter(df.Edad >= 25).show()"
   ]
  },
  {
   "cell_type": "markdown",
   "id": "c7e5e18c",
   "metadata": {},
   "source": [
    "### 4. Agregar una nueva columna \"Pais\" con un valor constante para todas las filas"
   ]
  },
  {
   "cell_type": "code",
   "execution_count": 7,
   "id": "9ca55c76",
   "metadata": {},
   "outputs": [],
   "source": [
    "from pyspark.sql.functions import lit\n",
    "\n",
    "df = df.withColumn(\"Pais\", lit(\"Argentina\"))"
   ]
  },
  {
   "cell_type": "code",
   "execution_count": 8,
   "id": "c905ab57",
   "metadata": {},
   "outputs": [
    {
     "name": "stdout",
     "output_type": "stream",
     "text": [
      "+-------+----+-----------+---------+\n",
      "| Nombre|Edad|     Ciudad|     Pais|\n",
      "+-------+----+-----------+---------+\n",
      "|  Alice|  25|   New York|Argentina|\n",
      "|    Bob|  30|Los Angeles|Argentina|\n",
      "|Charlie|  22|    Chicago|Argentina|\n",
      "+-------+----+-----------+---------+\n",
      "\n"
     ]
    }
   ],
   "source": [
    "df.show(3)"
   ]
  },
  {
   "cell_type": "markdown",
   "id": "54427c2e",
   "metadata": {},
   "source": [
    "### 5. Calcular el promedio de edad de todas las personas"
   ]
  },
  {
   "cell_type": "code",
   "execution_count": 9,
   "id": "aef5af38",
   "metadata": {},
   "outputs": [
    {
     "name": "stdout",
     "output_type": "stream",
     "text": [
      "+------------------+\n",
      "|         avg(Edad)|\n",
      "+------------------+\n",
      "|25.666666666666668|\n",
      "+------------------+\n",
      "\n"
     ]
    }
   ],
   "source": [
    "from pyspark.sql.functions import avg\n",
    "\n",
    "df.select(avg(\"Edad\")).show()"
   ]
  },
  {
   "cell_type": "markdown",
   "id": "5d32ed22",
   "metadata": {},
   "source": [
    "### 6. Ordenar el DataFrame por edad en orden descendente"
   ]
  },
  {
   "cell_type": "code",
   "execution_count": 10,
   "id": "388517b8",
   "metadata": {},
   "outputs": [
    {
     "name": "stdout",
     "output_type": "stream",
     "text": [
      "+-------+----+-----------+---------+\n",
      "| Nombre|Edad|     Ciudad|     Pais|\n",
      "+-------+----+-----------+---------+\n",
      "|    Bob|  30|Los Angeles|Argentina|\n",
      "|  Alice|  25|   New York|Argentina|\n",
      "|Charlie|  22|    Chicago|Argentina|\n",
      "+-------+----+-----------+---------+\n",
      "\n"
     ]
    }
   ],
   "source": [
    "df.orderBy(df.Edad.desc()).show()"
   ]
  },
  {
   "cell_type": "markdown",
   "id": "7ed30da3",
   "metadata": {},
   "source": [
    "### 7. Agrupar por ciudad y calcular la cantidad de personas en cada ciudad"
   ]
  },
  {
   "cell_type": "code",
   "execution_count": 11,
   "id": "2124cac8",
   "metadata": {},
   "outputs": [
    {
     "name": "stdout",
     "output_type": "stream",
     "text": [
      "+-----------+-----+\n",
      "|     Ciudad|count|\n",
      "+-----------+-----+\n",
      "|   New York|    1|\n",
      "|Los Angeles|    1|\n",
      "|    Chicago|    1|\n",
      "+-----------+-----+\n",
      "\n"
     ]
    }
   ],
   "source": [
    "df.groupBy(\"Ciudad\").count().show()"
   ]
  },
  {
   "cell_type": "markdown",
   "id": "a49ff634",
   "metadata": {},
   "source": [
    "### 8. Renombrar la columna \"Nombre\" a \"NombreCompleto\""
   ]
  },
  {
   "cell_type": "code",
   "execution_count": 12,
   "id": "866f19cd",
   "metadata": {},
   "outputs": [],
   "source": [
    "df = df.withColumnRenamed(\"Nombre\", \"NombreCompleto\")"
   ]
  },
  {
   "cell_type": "code",
   "execution_count": 13,
   "id": "9299c992",
   "metadata": {},
   "outputs": [
    {
     "name": "stdout",
     "output_type": "stream",
     "text": [
      "+--------------+----+-----------+---------+\n",
      "|NombreCompleto|Edad|     Ciudad|     Pais|\n",
      "+--------------+----+-----------+---------+\n",
      "|         Alice|  25|   New York|Argentina|\n",
      "|           Bob|  30|Los Angeles|Argentina|\n",
      "|       Charlie|  22|    Chicago|Argentina|\n",
      "+--------------+----+-----------+---------+\n",
      "\n"
     ]
    }
   ],
   "source": [
    "df.show(3)"
   ]
  },
  {
   "cell_type": "markdown",
   "id": "cd035528",
   "metadata": {},
   "source": [
    "### 9. Eliminar la columna \"Edad\" del DataFrame"
   ]
  },
  {
   "cell_type": "code",
   "execution_count": 14,
   "id": "59bf5b98",
   "metadata": {},
   "outputs": [],
   "source": [
    "df2 = df.drop(\"Edad\")"
   ]
  },
  {
   "cell_type": "code",
   "execution_count": 15,
   "id": "6a3b8b17",
   "metadata": {},
   "outputs": [
    {
     "name": "stdout",
     "output_type": "stream",
     "text": [
      "+--------------+-----------+---------+\n",
      "|NombreCompleto|     Ciudad|     Pais|\n",
      "+--------------+-----------+---------+\n",
      "|         Alice|   New York|Argentina|\n",
      "|           Bob|Los Angeles|Argentina|\n",
      "|       Charlie|    Chicago|Argentina|\n",
      "+--------------+-----------+---------+\n",
      "\n"
     ]
    }
   ],
   "source": [
    "df2.show(3)"
   ]
  },
  {
   "cell_type": "markdown",
   "id": "0d2d10fd",
   "metadata": {},
   "source": [
    "### 10. Realizar una consulta SQL en el DataFrame para seleccionar personas mayores de 20 años"
   ]
  },
  {
   "cell_type": "code",
   "execution_count": 16,
   "id": "d280186d",
   "metadata": {},
   "outputs": [
    {
     "name": "stdout",
     "output_type": "stream",
     "text": [
      "+--------------+----+-----------+---------+\n",
      "|NombreCompleto|Edad|     Ciudad|     Pais|\n",
      "+--------------+----+-----------+---------+\n",
      "|         Alice|  25|   New York|Argentina|\n",
      "|           Bob|  30|Los Angeles|Argentina|\n",
      "|       Charlie|  22|    Chicago|Argentina|\n",
      "+--------------+----+-----------+---------+\n",
      "\n"
     ]
    }
   ],
   "source": [
    "df.createOrReplaceTempView(\"personas\")\n",
    "result = spark.sql(\"SELECT * FROM personas WHERE Edad > 20\")\n",
    "result.show()"
   ]
  },
  {
   "cell_type": "markdown",
   "id": "24d69a92",
   "metadata": {},
   "source": [
    "### 11. Calcular la suma total de todas las edades"
   ]
  },
  {
   "cell_type": "code",
   "execution_count": 17,
   "id": "28b47071",
   "metadata": {},
   "outputs": [
    {
     "name": "stdout",
     "output_type": "stream",
     "text": [
      "+---------+\n",
      "|sum(Edad)|\n",
      "+---------+\n",
      "|       77|\n",
      "+---------+\n",
      "\n"
     ]
    }
   ],
   "source": [
    "from pyspark.sql.functions import sum\n",
    "\n",
    "df.select(sum(\"Edad\")).show()"
   ]
  },
  {
   "cell_type": "markdown",
   "id": "b91e73eb",
   "metadata": {},
   "source": [
    "### 12. Calcular la edad mínima y máxima de todas las personas."
   ]
  },
  {
   "cell_type": "code",
   "execution_count": 18,
   "id": "c5076900",
   "metadata": {},
   "outputs": [
    {
     "name": "stdout",
     "output_type": "stream",
     "text": [
      "+---------+---------+\n",
      "|min(Edad)|max(Edad)|\n",
      "+---------+---------+\n",
      "|       22|       30|\n",
      "+---------+---------+\n",
      "\n"
     ]
    }
   ],
   "source": [
    "from pyspark.sql.functions import min, max\n",
    "\n",
    "df.select(min(\"Edad\"), max(\"Edad\")).show()"
   ]
  },
  {
   "cell_type": "markdown",
   "id": "880d7715",
   "metadata": {},
   "source": [
    "### 13. Filtrar personas cuya ciudad de residencia sea \"Chicago\" y edad sea menor de 30"
   ]
  },
  {
   "cell_type": "code",
   "execution_count": 19,
   "id": "45e2dc7a",
   "metadata": {},
   "outputs": [
    {
     "name": "stdout",
     "output_type": "stream",
     "text": [
      "+--------------+----+-------+---------+\n",
      "|NombreCompleto|Edad| Ciudad|     Pais|\n",
      "+--------------+----+-------+---------+\n",
      "|       Charlie|  22|Chicago|Argentina|\n",
      "+--------------+----+-------+---------+\n",
      "\n"
     ]
    }
   ],
   "source": [
    "df.filter((df.Ciudad == \"Chicago\") & (df.Edad < 30)).show()"
   ]
  },
  {
   "cell_type": "markdown",
   "id": "e05d2bd9",
   "metadata": {},
   "source": [
    "### 14. Agregar una nueva columna \"EdadDuplicada\" que contenga el doble de la edad"
   ]
  },
  {
   "cell_type": "code",
   "execution_count": 20,
   "id": "13981f40",
   "metadata": {},
   "outputs": [],
   "source": [
    "df = df.withColumn(\"EdadDuplicada\", df.Edad * 2)"
   ]
  },
  {
   "cell_type": "code",
   "execution_count": 21,
   "id": "6d7473a7",
   "metadata": {},
   "outputs": [
    {
     "name": "stdout",
     "output_type": "stream",
     "text": [
      "+--------------+----+-----------+---------+-------------+\n",
      "|NombreCompleto|Edad|     Ciudad|     Pais|EdadDuplicada|\n",
      "+--------------+----+-----------+---------+-------------+\n",
      "|         Alice|  25|   New York|Argentina|           50|\n",
      "|           Bob|  30|Los Angeles|Argentina|           60|\n",
      "|       Charlie|  22|    Chicago|Argentina|           44|\n",
      "+--------------+----+-----------+---------+-------------+\n",
      "\n"
     ]
    }
   ],
   "source": [
    "df.show(3)"
   ]
  },
  {
   "cell_type": "markdown",
   "id": "3156e8db",
   "metadata": {},
   "source": [
    "### 15. Convertir todas las edades en años a meses"
   ]
  },
  {
   "cell_type": "code",
   "execution_count": 22,
   "id": "c4ac789b",
   "metadata": {},
   "outputs": [],
   "source": [
    "df = df.withColumn(\"EdadEnMeses\", df.Edad * 12)"
   ]
  },
  {
   "cell_type": "code",
   "execution_count": 23,
   "id": "821fced2",
   "metadata": {},
   "outputs": [
    {
     "name": "stdout",
     "output_type": "stream",
     "text": [
      "+--------------+----+-----------+---------+-------------+-----------+\n",
      "|NombreCompleto|Edad|     Ciudad|     Pais|EdadDuplicada|EdadEnMeses|\n",
      "+--------------+----+-----------+---------+-------------+-----------+\n",
      "|         Alice|  25|   New York|Argentina|           50|        300|\n",
      "|           Bob|  30|Los Angeles|Argentina|           60|        360|\n",
      "|       Charlie|  22|    Chicago|Argentina|           44|        264|\n",
      "+--------------+----+-----------+---------+-------------+-----------+\n",
      "\n"
     ]
    }
   ],
   "source": [
    "df.show(3)"
   ]
  },
  {
   "cell_type": "markdown",
   "id": "7fe8f996",
   "metadata": {},
   "source": [
    "### 16. Contar el número total de personas en el DataFrame"
   ]
  },
  {
   "cell_type": "code",
   "execution_count": 26,
   "id": "d1dd4c11",
   "metadata": {},
   "outputs": [
    {
     "name": "stdout",
     "output_type": "stream",
     "text": [
      "Número total de personas es: 3\n"
     ]
    }
   ],
   "source": [
    "total_personas = df.count()\n",
    "\n",
    "print(\"Número total de personas es:\", total_personas)"
   ]
  },
  {
   "cell_type": "markdown",
   "id": "eac27d91",
   "metadata": {},
   "source": [
    "### 17. Filtrar personas cuya edad sea un número par"
   ]
  },
  {
   "cell_type": "code",
   "execution_count": 27,
   "id": "493bc69c",
   "metadata": {},
   "outputs": [
    {
     "name": "stdout",
     "output_type": "stream",
     "text": [
      "+--------------+----+-----------+---------+-------------+-----------+\n",
      "|NombreCompleto|Edad|     Ciudad|     Pais|EdadDuplicada|EdadEnMeses|\n",
      "+--------------+----+-----------+---------+-------------+-----------+\n",
      "|           Bob|  30|Los Angeles|Argentina|           60|        360|\n",
      "|       Charlie|  22|    Chicago|Argentina|           44|        264|\n",
      "+--------------+----+-----------+---------+-------------+-----------+\n",
      "\n"
     ]
    }
   ],
   "source": [
    "df.filter(df.Edad % 2 == 0).show()"
   ]
  },
  {
   "cell_type": "markdown",
   "id": "78c8ebf0",
   "metadata": {},
   "source": [
    "### 18. Calcular la cantidad de personas por rango de edades (0-20, 21-40, 41-60, 61+)"
   ]
  },
  {
   "cell_type": "code",
   "execution_count": 28,
   "id": "4f534cb8",
   "metadata": {},
   "outputs": [
    {
     "name": "stdout",
     "output_type": "stream",
     "text": [
      "+-----------+-----+\n",
      "|RangoEdades|count|\n",
      "+-----------+-----+\n",
      "|      21-40|    3|\n",
      "+-----------+-----+\n",
      "\n"
     ]
    }
   ],
   "source": [
    "from pyspark.sql.functions import when\n",
    "\n",
    "df = df.withColumn(\"RangoEdades\",\n",
    "                   when((df.Edad >= 0) & (df.Edad <= 20), \"0-20\")\n",
    "                   .when((df.Edad >= 21) & (df.Edad <= 40), \"21-40\")\n",
    "                   .when((df.Edad >= 41) & (df.Edad <= 60), \"41-60\")\n",
    "                   .otherwise(\"61+\"))\n",
    "\n",
    "df.groupBy(\"RangoEdades\").count().show()"
   ]
  },
  {
   "cell_type": "markdown",
   "id": "e69f7d79",
   "metadata": {},
   "source": [
    "### 19. Contar cuántas personas tienen el mismo nombre"
   ]
  },
  {
   "cell_type": "code",
   "execution_count": 29,
   "id": "667bd0a0",
   "metadata": {},
   "outputs": [
    {
     "name": "stdout",
     "output_type": "stream",
     "text": [
      "+--------------+-----+\n",
      "|NombreCompleto|count|\n",
      "+--------------+-----+\n",
      "|         Alice|    1|\n",
      "|           Bob|    1|\n",
      "|       Charlie|    1|\n",
      "+--------------+-----+\n",
      "\n"
     ]
    }
   ],
   "source": [
    "df.groupBy(\"NombreCompleto\").count().show()"
   ]
  },
  {
   "cell_type": "code",
   "execution_count": 32,
   "id": "75540939",
   "metadata": {},
   "outputs": [
    {
     "name": "stdout",
     "output_type": "stream",
     "text": [
      "+--------------+-----+\n",
      "|NombreCompleto|count|\n",
      "+--------------+-----+\n",
      "+--------------+-----+\n",
      "\n"
     ]
    }
   ],
   "source": [
    "#La otra opción es mostrando únicamente aquellos que tienen duplicado el nombre más de 1 vez\n",
    "from pyspark.sql.functions import col\n",
    "grupoNombre = df.groupBy(\"NombreCompleto\").count()\n",
    "duplicados = grupoNombre.filter(col(\"count\") > 1).show()"
   ]
  },
  {
   "cell_type": "markdown",
   "id": "7f2b2b4c",
   "metadata": {},
   "source": [
    "### 20. Concatenar las columnas \"Nombre\" y \"Ciudad\" en una nueva columna llamada \"InformacionPersonal\""
   ]
  },
  {
   "cell_type": "code",
   "execution_count": 33,
   "id": "4ce8a098",
   "metadata": {},
   "outputs": [
    {
     "name": "stdout",
     "output_type": "stream",
     "text": [
      "+--------------+----+-----------+---------+-------------+-----------+-----------+-------------------+\n",
      "|NombreCompleto|Edad|     Ciudad|     Pais|EdadDuplicada|EdadEnMeses|RangoEdades|InformacionPersonal|\n",
      "+--------------+----+-----------+---------+-------------+-----------+-----------+-------------------+\n",
      "|         Alice|  25|   New York|Argentina|           50|        300|      21-40|               NULL|\n",
      "|           Bob|  30|Los Angeles|Argentina|           60|        360|      21-40|               NULL|\n",
      "|       Charlie|  22|    Chicago|Argentina|           44|        264|      21-40|               NULL|\n",
      "+--------------+----+-----------+---------+-------------+-----------+-----------+-------------------+\n",
      "\n"
     ]
    }
   ],
   "source": [
    "df = df.withColumn(\"InformacionPersonal\", df.NombreCompleto + \", \" + df.Ciudad)\n",
    "\n",
    "df.show()"
   ]
  }
 ],
 "metadata": {
  "kernelspec": {
   "display_name": "Python 3 (ipykernel)",
   "language": "python",
   "name": "python3"
  },
  "language_info": {
   "codemirror_mode": {
    "name": "ipython",
    "version": 3
   },
   "file_extension": ".py",
   "mimetype": "text/x-python",
   "name": "python",
   "nbconvert_exporter": "python",
   "pygments_lexer": "ipython3",
   "version": "3.11.4"
  }
 },
 "nbformat": 4,
 "nbformat_minor": 5
}
